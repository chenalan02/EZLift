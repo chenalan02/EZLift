{
 "cells": [
  {
   "cell_type": "code",
   "execution_count": null,
   "metadata": {},
   "outputs": [],
   "source": [
    "import pvporcupine\n",
    "import pvrhino\n",
    "import pyaudio\n",
    "from pvrecorder import PvRecorder"
   ]
  },
  {
   "cell_type": "code",
   "execution_count": null,
   "metadata": {},
   "outputs": [],
   "source": [
    "# pa = pyaudio.PyAudio()"
   ]
  },
  {
   "cell_type": "code",
   "execution_count": null,
   "metadata": {},
   "outputs": [],
   "source": [
    "# for i in range(pa.get_device_count()):\n",
    "#     dev = pa.get_device_info_by_index(i)\n",
    "#     print(dev[\"name\"])\n",
    "#     if \"seeed\" in dev[\"name\"].lower():\n",
    "#         device_index = i\n",
    "#         break"
   ]
  },
  {
   "cell_type": "code",
   "execution_count": null,
   "metadata": {},
   "outputs": [],
   "source": [
    "PvRecorder.get_available_devices()"
   ]
  },
  {
   "cell_type": "code",
   "execution_count": null,
   "metadata": {},
   "outputs": [],
   "source": [
    "keyword_path = \"/home/pi/EZLift/src/raspberry_pi/Easy-Lift_en_raspberry-pi_v3_0_0.ppn\"\n",
    "porcupine = pvporcupine.create(keyword_paths=[keyword_path],\n",
    "                               access_key='Dwi/yCZhuIbXGkKPNbK/vgoCuRjzFs9XrqZpEmD6mDLGVyYrFv4MuQ==',\n",
    "                               sensitivities=[0.7])\n",
    "rhino = pvrhino.create(access_key='Dwi/yCZhuIbXGkKPNbK/vgoCuRjzFs9XrqZpEmD6mDLGVyYrFv4MuQ==',\n",
    "                       sensitivity=0.7,\n",
    "                       context_path=\"/home/pi/EZLift/src/raspberry_pi/ezlift_en_raspberry-pi_v3_0_0.rhn\",\n",
    "                       )\n",
    "                       \n",
    "recorder = PvRecorder(device_index=2, frame_length=porcupine.frame_length)\n",
    "recorder.start()"
   ]
  },
  {
   "cell_type": "code",
   "execution_count": null,
   "metadata": {},
   "outputs": [],
   "source": [
    "# stream = pa.open(format=pyaudio.paInt16, channels=1, rate=48000,\n",
    "#                  input=True, frames_per_buffer=porcupine.frame_length,\n",
    "#                  input_device_index=device_index)"
   ]
  },
  {
   "cell_type": "code",
   "execution_count": null,
   "metadata": {},
   "outputs": [],
   "source": [
    "while True:\n",
    "    pcm = recorder.read()\n",
    "    # print(pcm)\n",
    "    # print(porcupine.process(pcm))\n",
    "    awoken = False\n",
    "    intent_recognized = False\n",
    "\n",
    "    if not awoken:\n",
    "        if porcupine.process(pcm) >= 0:\n",
    "            print(\"Wake word detected!\")\n",
    "            awoken = True\n",
    "    else:\n",
    "        if not intent_recognized:\n",
    "            if rhino.process(pcm):\n",
    "                print(rhino.get_inference())\n",
    "                intent_recognized = True\n",
    "                break\n",
    "\n",
    "        "
   ]
  },
  {
   "cell_type": "code",
   "execution_count": null,
   "metadata": {},
   "outputs": [],
   "source": []
  }
 ],
 "metadata": {
  "kernelspec": {
   "display_name": "env",
   "language": "python",
   "name": "python3"
  },
  "language_info": {
   "codemirror_mode": {
    "name": "ipython",
    "version": 3
   },
   "file_extension": ".py",
   "mimetype": "text/x-python",
   "name": "python",
   "nbconvert_exporter": "python",
   "pygments_lexer": "ipython3",
   "version": "3.11.2"
  }
 },
 "nbformat": 4,
 "nbformat_minor": 2
}
