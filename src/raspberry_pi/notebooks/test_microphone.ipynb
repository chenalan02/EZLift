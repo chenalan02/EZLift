{
 "cells": [
  {
   "cell_type": "code",
   "execution_count": 1,
   "metadata": {},
   "outputs": [],
   "source": [
    "import pvporcupine\n",
    "import pvrhino\n",
    "import pyaudio\n",
    "from pvrecorder import PvRecorder"
   ]
  },
  {
   "cell_type": "code",
   "execution_count": 2,
   "metadata": {},
   "outputs": [],
   "source": [
    "# pa = pyaudio.PyAudio()"
   ]
  },
  {
   "cell_type": "code",
   "execution_count": 3,
   "metadata": {},
   "outputs": [],
   "source": [
    "# for i in range(pa.get_device_count()):\n",
    "#     dev = pa.get_device_info_by_index(i)\n",
    "#     print(dev[\"name\"])\n",
    "#     if \"seeed\" in dev[\"name\"].lower():\n",
    "#         device_index = i\n",
    "#         break"
   ]
  },
  {
   "cell_type": "code",
   "execution_count": 4,
   "metadata": {},
   "outputs": [
    {
     "data": {
      "text/plain": [
       "['Monitor of Built-in Audio Stereo',\n",
       " 'Monitor of Built-in Audio Stereo',\n",
       " 'Built-in Audio Stereo']"
      ]
     },
     "execution_count": 4,
     "metadata": {},
     "output_type": "execute_result"
    }
   ],
   "source": [
    "PvRecorder.get_available_devices()"
   ]
  },
  {
   "cell_type": "code",
   "execution_count": 5,
   "metadata": {},
   "outputs": [],
   "source": [
    "keyword_path = \"/home/pi/EZLift/src/raspberry_pi/Easy-Lift_en_raspberry-pi_v3_0_0.ppn\"\n",
    "porcupine = pvporcupine.create(keyword_paths=[keyword_path],\n",
    "                               access_key='Dwi/yCZhuIbXGkKPNbK/vgoCuRjzFs9XrqZpEmD6mDLGVyYrFv4MuQ==',\n",
    "                               sensitivities=[0.7])\n",
    "rhino = pvrhino.create(access_key='Dwi/yCZhuIbXGkKPNbK/vgoCuRjzFs9XrqZpEmD6mDLGVyYrFv4MuQ==',\n",
    "                       sensitivity=0.7,\n",
    "                       context_path=\"/home/pi/EZLift/src/raspberry_pi/ezlift_en_raspberry-pi_v3_0_0.rhn\",\n",
    "                       )\n",
    "                       \n",
    "recorder = PvRecorder(device_index=2, frame_length=porcupine.frame_length)\n",
    "recorder.start()"
   ]
  },
  {
   "cell_type": "code",
   "execution_count": 6,
   "metadata": {},
   "outputs": [],
   "source": [
    "# stream = pa.open(format=pyaudio.paInt16, channels=1, rate=48000,\n",
    "#                  input=True, frames_per_buffer=porcupine.frame_length,\n",
    "#                  input_device_index=device_index)"
   ]
  },
  {
   "cell_type": "code",
   "execution_count": 7,
   "metadata": {},
   "outputs": [
    {
     "ename": "KeyboardInterrupt",
     "evalue": "",
     "output_type": "error",
     "traceback": [
      "\u001b[31m---------------------------------------------------------------------------\u001b[39m",
      "\u001b[31mKeyboardInterrupt\u001b[39m                         Traceback (most recent call last)",
      "\u001b[36mCell\u001b[39m\u001b[36m \u001b[39m\u001b[32mIn[7]\u001b[39m\u001b[32m, line 2\u001b[39m\n\u001b[32m      1\u001b[39m \u001b[38;5;28;01mwhile\u001b[39;00m \u001b[38;5;28;01mTrue\u001b[39;00m:\n\u001b[32m----> \u001b[39m\u001b[32m2\u001b[39m     pcm = \u001b[43mrecorder\u001b[49m\u001b[43m.\u001b[49m\u001b[43mread\u001b[49m\u001b[43m(\u001b[49m\u001b[43m)\u001b[49m\n\u001b[32m      3\u001b[39m     \u001b[38;5;66;03m# print(pcm)\u001b[39;00m\n\u001b[32m      4\u001b[39m     \u001b[38;5;66;03m# print(porcupine.process(pcm))\u001b[39;00m\n\u001b[32m      5\u001b[39m     awoken = \u001b[38;5;28;01mFalse\u001b[39;00m\n",
      "\u001b[36mFile \u001b[39m\u001b[32m~/EZLift/env/lib/python3.11/site-packages/pvrecorder/_pvrecorder.py:211\u001b[39m, in \u001b[36mPvRecorder.read\u001b[39m\u001b[34m(self)\u001b[39m\n\u001b[32m    205\u001b[39m \u001b[38;5;250m\u001b[39m\u001b[33;03m\"\"\"Synchronous call to read a frame of audio.\u001b[39;00m\n\u001b[32m    206\u001b[39m \n\u001b[32m    207\u001b[39m \u001b[33;03m:return: A frame with size `frame_length` matching the value given to `__init__()`.\u001b[39;00m\n\u001b[32m    208\u001b[39m \u001b[33;03m\"\"\"\u001b[39;00m\n\u001b[32m    210\u001b[39m pcm = (c_int16 * \u001b[38;5;28mself\u001b[39m._frame_length)()\n\u001b[32m--> \u001b[39m\u001b[32m211\u001b[39m status = \u001b[38;5;28;43mself\u001b[39;49m\u001b[43m.\u001b[49m\u001b[43m_read_func\u001b[49m\u001b[43m(\u001b[49m\u001b[38;5;28;43mself\u001b[39;49m\u001b[43m.\u001b[49m\u001b[43m_handle\u001b[49m\u001b[43m,\u001b[49m\u001b[43m \u001b[49m\u001b[43mpcm\u001b[49m\u001b[43m)\u001b[49m\n\u001b[32m    212\u001b[39m \u001b[38;5;28;01mif\u001b[39;00m status \u001b[38;5;129;01mis\u001b[39;00m \u001b[38;5;129;01mnot\u001b[39;00m \u001b[38;5;28mself\u001b[39m.PvRecorderStatuses.SUCCESS:\n\u001b[32m    213\u001b[39m     \u001b[38;5;28;01mraise\u001b[39;00m \u001b[38;5;28mself\u001b[39m._PVRECORDER_STATUS_TO_EXCEPTION[status](\u001b[33m\"\u001b[39m\u001b[33mFailed to read from device.\u001b[39m\u001b[33m\"\u001b[39m)\n",
      "\u001b[36mFile \u001b[39m\u001b[32m/usr/lib/python3.11/enum.py:691\u001b[39m, in \u001b[36mEnumType.__call__\u001b[39m\u001b[34m(cls, value, names, module, qualname, type, start, boundary)\u001b[39m\n\u001b[32m    686\u001b[39m \u001b[38;5;250m    \u001b[39m\u001b[33;03m\"\"\"\u001b[39;00m\n\u001b[32m    687\u001b[39m \u001b[33;03m    classes/types should always be True.\u001b[39;00m\n\u001b[32m    688\u001b[39m \u001b[33;03m    \"\"\"\u001b[39;00m\n\u001b[32m    689\u001b[39m     \u001b[38;5;28;01mreturn\u001b[39;00m \u001b[38;5;28;01mTrue\u001b[39;00m\n\u001b[32m--> \u001b[39m\u001b[32m691\u001b[39m \u001b[38;5;28;01mdef\u001b[39;00m \u001b[34m__call__\u001b[39m(\u001b[38;5;28mcls\u001b[39m, value, names=\u001b[38;5;28;01mNone\u001b[39;00m, *, module=\u001b[38;5;28;01mNone\u001b[39;00m, qualname=\u001b[38;5;28;01mNone\u001b[39;00m, \u001b[38;5;28mtype\u001b[39m=\u001b[38;5;28;01mNone\u001b[39;00m, start=\u001b[32m1\u001b[39m, boundary=\u001b[38;5;28;01mNone\u001b[39;00m):\n\u001b[32m    692\u001b[39m \u001b[38;5;250m    \u001b[39m\u001b[33;03m\"\"\"\u001b[39;00m\n\u001b[32m    693\u001b[39m \u001b[33;03m    Either returns an existing member, or creates a new enum class.\u001b[39;00m\n\u001b[32m    694\u001b[39m \n\u001b[32m   (...)\u001b[39m\u001b[32m    714\u001b[39m \u001b[33;03m    `type`, if set, will be mixed in as the first base class.\u001b[39;00m\n\u001b[32m    715\u001b[39m \u001b[33;03m    \"\"\"\u001b[39;00m\n\u001b[32m    716\u001b[39m     \u001b[38;5;28;01mif\u001b[39;00m names \u001b[38;5;129;01mis\u001b[39;00m \u001b[38;5;28;01mNone\u001b[39;00m:  \u001b[38;5;66;03m# simple value lookup\u001b[39;00m\n",
      "\u001b[31mKeyboardInterrupt\u001b[39m: "
     ]
    }
   ],
   "source": [
    "while True:\n",
    "    pcm = recorder.read()\n",
    "    # print(pcm)\n",
    "    # print(porcupine.process(pcm))\n",
    "    awoken = False\n",
    "    intent_recognized = False\n",
    "\n",
    "    if not awoken:\n",
    "        if porcupine.process(pcm) >= 0:\n",
    "            print(\"Wake word detected!\")\n",
    "            awoken = True\n",
    "    else:\n",
    "        if not intent_recognized:\n",
    "            if rhino.process(pcm):\n",
    "                print(rhino.get_inference())\n",
    "                intent_recognized = True\n",
    "                break\n",
    "\n",
    "        "
   ]
  },
  {
   "cell_type": "code",
   "execution_count": null,
   "metadata": {},
   "outputs": [],
   "source": []
  }
 ],
 "metadata": {
  "kernelspec": {
   "display_name": "env",
   "language": "python",
   "name": "python3"
  },
  "language_info": {
   "codemirror_mode": {
    "name": "ipython",
    "version": 3
   },
   "file_extension": ".py",
   "mimetype": "text/x-python",
   "name": "python",
   "nbconvert_exporter": "python",
   "pygments_lexer": "ipython3",
   "version": "3.11.2"
  }
 },
 "nbformat": 4,
 "nbformat_minor": 2
}
