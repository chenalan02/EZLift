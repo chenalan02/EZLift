{
 "cells": [
  {
   "cell_type": "code",
   "execution_count": 1,
   "metadata": {},
   "outputs": [],
   "source": [
    "import pvporcupine\n",
    "import pvrhino\n",
    "import pyaudio\n",
    "from pvrecorder import PvRecorder"
   ]
  },
  {
   "cell_type": "code",
   "execution_count": 2,
   "metadata": {},
   "outputs": [],
   "source": [
    "# pa = pyaudio.PyAudio()"
   ]
  },
  {
   "cell_type": "code",
   "execution_count": 3,
   "metadata": {},
   "outputs": [],
   "source": [
    "# for i in range(pa.get_device_count()):\n",
    "#     dev = pa.get_device_info_by_index(i)\n",
    "#     print(dev[\"name\"])\n",
    "#     if \"seeed\" in dev[\"name\"].lower():\n",
    "#         device_index = i\n",
    "#         break"
   ]
  },
  {
   "cell_type": "code",
   "execution_count": 4,
   "metadata": {},
   "outputs": [
    {
     "data": {
      "text/plain": [
       "['Monitor of Built-in Audio Stereo',\n",
       " 'Monitor of Built-in Audio Stereo',\n",
       " 'Built-in Audio Stereo']"
      ]
     },
     "execution_count": 4,
     "metadata": {},
     "output_type": "execute_result"
    }
   ],
   "source": [
    "PvRecorder.get_available_devices()"
   ]
  },
  {
   "cell_type": "code",
   "execution_count": 5,
   "metadata": {},
   "outputs": [],
   "source": [
    "keyword_path = \"/home/pi/EZLift/src/raspberry_pi/Easy-Lift_en_raspberry-pi_v3_0_0.ppn\"\n",
    "porcupine = pvporcupine.create(keyword_paths=[keyword_path], access_key='Dwi/yCZhuIbXGkKPNbK/vgoCuRjzFs9XrqZpEmD6mDLGVyYrFv4MuQ==')\n",
    "recorder = PvRecorder(device_index=2, frame_length=porcupine.frame_length)\n",
    "recorder.start()"
   ]
  },
  {
   "cell_type": "code",
   "execution_count": 6,
   "metadata": {},
   "outputs": [],
   "source": [
    "# stream = pa.open(format=pyaudio.paInt16, channels=1, rate=48000,\n",
    "#                  input=True, frames_per_buffer=porcupine.frame_length,\n",
    "#                  input_device_index=device_index)"
   ]
  },
  {
   "cell_type": "code",
   "execution_count": null,
   "metadata": {},
   "outputs": [
    {
     "name": "stdout",
     "output_type": "stream",
     "text": [
      "Wake word detected!\n",
      "Wake word detected!\n",
      "Wake word detected!\n",
      "Wake word detected!\n"
     ]
    }
   ],
   "source": [
    "while True:\n",
    "    pcm = recorder.read()\n",
    "    # print(pcm)\n",
    "    # print(porcupine.process(pcm))\n",
    "\n",
    "    if porcupine.process(pcm) >= 0:\n",
    "        print(\"Wake word detected!\")"
   ]
  },
  {
   "cell_type": "code",
   "execution_count": null,
   "metadata": {},
   "outputs": [],
   "source": []
  }
 ],
 "metadata": {
  "kernelspec": {
   "display_name": "env",
   "language": "python",
   "name": "python3"
  },
  "language_info": {
   "codemirror_mode": {
    "name": "ipython",
    "version": 3
   },
   "file_extension": ".py",
   "mimetype": "text/x-python",
   "name": "python",
   "nbconvert_exporter": "python",
   "pygments_lexer": "ipython3",
   "version": "3.11.2"
  }
 },
 "nbformat": 4,
 "nbformat_minor": 2
}
