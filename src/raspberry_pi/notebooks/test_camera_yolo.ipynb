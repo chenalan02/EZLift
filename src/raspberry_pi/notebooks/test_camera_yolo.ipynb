{
 "cells": [
  {
   "cell_type": "code",
   "execution_count": 1,
   "metadata": {},
   "outputs": [],
   "source": [
    "import cv2\n",
    "from picamera2 import Picamera2\n",
    "from ultralytics import YOLO\n",
    "import matplotlib.pyplot as plt\n",
    "import pickle\n",
    "import os\n",
    "import numpy as np\n",
    "import time\n",
    "import serial\n",
    "os.environ[\"DISPLAY\"] = \":0\""
   ]
  },
  {
   "cell_type": "code",
   "execution_count": 2,
   "metadata": {},
   "outputs": [],
   "source": [
    "\n",
    "model_path = \"/home/pi/EZLift/src/raspberry_pi/custom_palletsonly_50epochs_edgetpu.tflite\"\n",
    "\n",
    "model = YOLO(model_path, task='detect')"
   ]
  },
  {
   "cell_type": "code",
   "execution_count": 3,
   "metadata": {},
   "outputs": [],
   "source": [
    "# import time\n",
    "# import cv2\n",
    "\n",
    "# picam2 = Picamera2()\n",
    "# picam2.preview_configuration.main.size = (3280, 2464)\n",
    "# picam2.preview_configuration.main.format = \"RGB888\"\n",
    "# picam2.preview_configuration.align()\n",
    "# picam2.configure(\"preview\")\n",
    "# picam2.start()\n",
    "# picam2.start(show_preview=False)\n",
    "# frame = picam2.capture_array()\n",
    "\n",
    "# with open(\"frame.pkl\", \"wb\") as f:\n",
    "#     pickle.dump(frame, f)"
   ]
  },
  {
   "cell_type": "code",
   "execution_count": 4,
   "metadata": {},
   "outputs": [],
   "source": [
    "def _get_center_error(bbox, img):\n",
    "\n",
    "    bbox_center = (bbox[0] + bbox[2]) / 2\n",
    "    img_center = img.shape[1] / 2\n",
    "    error = img_center - bbox_center\n",
    "    return error"
   ]
  },
  {
   "cell_type": "code",
   "execution_count": 5,
   "metadata": {},
   "outputs": [
    {
     "name": "stderr",
     "output_type": "stream",
     "text": [
      "[4:11:43.631618060] [9127] \u001b[1;32m INFO \u001b[1;37mCamera \u001b[1;34mcamera_manager.cpp:327 \u001b[0mlibcamera v0.4.0+53-29156679\n",
      "[4:11:43.673251963] [9158] \u001b[1;31mERROR \u001b[1;37mV4L2 \u001b[1;34mv4l2_device.cpp:390 \u001b[0;32m'imx219 10-0010': \u001b[0mUnable to set controls: Device or resource busy\n",
      "[4:11:43.693094580] [9158] \u001b[1;33m WARN \u001b[1;37mRPiSdn \u001b[1;34msdn.cpp:40 \u001b[0mUsing legacy SDN tuning - please consider moving SDN inside rpi.denoise\n",
      "[4:11:43.695471465] [9158] \u001b[1;33m WARN \u001b[1;37mRPI \u001b[1;34mvc4.cpp:393 \u001b[0mMismatch between Unicam and CamHelper for embedded data usage!\n",
      "[4:11:43.696448114] [9158] \u001b[1;32m INFO \u001b[1;37mRPI \u001b[1;34mvc4.cpp:447 \u001b[0mRegistered camera /base/soc/i2c0mux/i2c@1/imx219@10 to Unicam device /dev/media3 and ISP device /dev/media0\n",
      "[4:11:43.696538002] [9158] \u001b[1;32m INFO \u001b[1;37mRPI \u001b[1;34mpipeline_base.cpp:1121 \u001b[0mUsing configuration file '/usr/share/libcamera/pipeline/rpi/vc4/rpi_apps.yaml'\n",
      "Camera __init__ sequence did not complete.\n",
      "[4:11:43.707501310] [9127] \u001b[1;32m INFO \u001b[1;37mCamera \u001b[1;34mcamera.cpp:1008 \u001b[0mPipeline handler in use by another process\n"
     ]
    },
    {
     "ename": "RuntimeError",
     "evalue": "Camera __init__ sequence did not complete.",
     "output_type": "error",
     "traceback": [
      "\u001b[31m---------------------------------------------------------------------------\u001b[39m",
      "\u001b[31mRuntimeError\u001b[39m                              Traceback (most recent call last)",
      "\u001b[36mFile \u001b[39m\u001b[32m/usr/lib/python3/dist-packages/picamera2/picamera2.py:269\u001b[39m, in \u001b[36mPicamera2.__init__\u001b[39m\u001b[34m(self, camera_num, verbose_console, tuning, allocator)\u001b[39m\n\u001b[32m    268\u001b[39m \u001b[38;5;28;01mtry\u001b[39;00m:\n\u001b[32m--> \u001b[39m\u001b[32m269\u001b[39m     \u001b[38;5;28;43mself\u001b[39;49m\u001b[43m.\u001b[49m\u001b[43m_open_camera\u001b[49m\u001b[43m(\u001b[49m\u001b[43m)\u001b[49m\n\u001b[32m    270\u001b[39m     _log.debug(\u001b[33mf\u001b[39m\u001b[33m\"\u001b[39m\u001b[38;5;132;01m{\u001b[39;00m\u001b[38;5;28mself\u001b[39m.camera_manager\u001b[38;5;132;01m}\u001b[39;00m\u001b[33m\"\u001b[39m)\n",
      "\u001b[36mFile \u001b[39m\u001b[32m/usr/lib/python3/dist-packages/picamera2/picamera2.py:477\u001b[39m, in \u001b[36mPicamera2._open_camera\u001b[39m\u001b[34m(self)\u001b[39m\n\u001b[32m    476\u001b[39m \u001b[38;5;66;03m# This now throws an error if it can't open the camera.\u001b[39;00m\n\u001b[32m--> \u001b[39m\u001b[32m477\u001b[39m \u001b[38;5;28;43mself\u001b[39;49m\u001b[43m.\u001b[49m\u001b[43mcamera\u001b[49m\u001b[43m.\u001b[49m\u001b[43macquire\u001b[49m\u001b[43m(\u001b[49m\u001b[43m)\u001b[49m\n\u001b[32m    479\u001b[39m \u001b[38;5;28mself\u001b[39m.is_open = \u001b[38;5;28;01mTrue\u001b[39;00m\n",
      "\u001b[31mRuntimeError\u001b[39m: Failed to acquire camera: Device or resource busy",
      "\nDuring handling of the above exception, another exception occurred:\n",
      "\u001b[31mRuntimeError\u001b[39m                              Traceback (most recent call last)",
      "\u001b[36mCell\u001b[39m\u001b[36m \u001b[39m\u001b[32mIn[5]\u001b[39m\u001b[32m, line 1\u001b[39m\n\u001b[32m----> \u001b[39m\u001b[32m1\u001b[39m picam2 = \u001b[43mPicamera2\u001b[49m\u001b[43m(\u001b[49m\u001b[43m)\u001b[49m\n\u001b[32m      2\u001b[39m picam2.preview_configuration.main.size = (\u001b[32m3280\u001b[39m, \u001b[32m2464\u001b[39m)\n\u001b[32m      3\u001b[39m picam2.preview_configuration.main.format = \u001b[33m\"\u001b[39m\u001b[33mRGB888\u001b[39m\u001b[33m\"\u001b[39m\n",
      "\u001b[36mFile \u001b[39m\u001b[32m/usr/lib/python3/dist-packages/picamera2/picamera2.py:281\u001b[39m, in \u001b[36mPicamera2.__init__\u001b[39m\u001b[34m(self, camera_num, verbose_console, tuning, allocator)\u001b[39m\n\u001b[32m    279\u001b[39m \u001b[38;5;28;01mexcept\u001b[39;00m \u001b[38;5;167;01mException\u001b[39;00m:\n\u001b[32m    280\u001b[39m     _log.error(\u001b[33m\"\u001b[39m\u001b[33mCamera __init__ sequence did not complete.\u001b[39m\u001b[33m\"\u001b[39m)\n\u001b[32m--> \u001b[39m\u001b[32m281\u001b[39m     \u001b[38;5;28;01mraise\u001b[39;00m \u001b[38;5;167;01mRuntimeError\u001b[39;00m(\u001b[33m\"\u001b[39m\u001b[33mCamera __init__ sequence did not complete.\u001b[39m\u001b[33m\"\u001b[39m)\n\u001b[32m    282\u001b[39m \u001b[38;5;28;01mfinally\u001b[39;00m:\n\u001b[32m    283\u001b[39m     \u001b[38;5;28;01mif\u001b[39;00m tuning_file \u001b[38;5;129;01mis\u001b[39;00m \u001b[38;5;129;01mnot\u001b[39;00m \u001b[38;5;28;01mNone\u001b[39;00m:\n",
      "\u001b[31mRuntimeError\u001b[39m: Camera __init__ sequence did not complete."
     ]
    }
   ],
   "source": [
    "picam2 = Picamera2()\n",
    "picam2.preview_configuration.main.size = (3280, 2464)\n",
    "picam2.preview_configuration.main.format = \"RGB888\"\n",
    "picam2.preview_configuration.align()\n",
    "picam2.configure(\"preview\")\n",
    "picam2.start()\n",
    "picam2.start(show_preview=False)\n",
    "counter = 0\n",
    "serial_port = serial.Serial(\"/dev/ttyACM0\", 9600)\n",
    "\n",
    "while True:\n",
    "    start_time = time.time()\n",
    "    \n",
    "    # Capture frame-by-frame\n",
    "    frame = picam2.capture_array()\n",
    "\n",
    "    # Run YOLO inference on the frame with imgsz=256\n",
    "    frame = cv2.resize(frame, (256, 256))\n",
    "    results = model.predict(frame, device=\"tpu:0\", imgsz=256)\n",
    "        \n",
    "    error = _get_center_error(results[0].boxes.xyxy[0], frame)\n",
    "    # Visualize the results on the frame\n",
    "    annotated_frame = results[0].plot()\n",
    "\n",
    "    # Calculate FPS\n",
    "    end_time = time.time()\n",
    "    fps = 1.0 / (end_time - start_time)\n",
    "    \n",
    "    # Overlay the FPS on the annotated frame\n",
    "    cv2.putText(annotated_frame, f\"FPS: {error:.2f}\", (10, 30), \n",
    "                cv2.FONT_HERSHEY_SIMPLEX, 0.5, (0, 255, 0), 2)\n",
    "    \n",
    "    # Display the resulting frame\n",
    "    cv2.imshow(\"Camera\", annotated_frame)\n",
    "    cv2.waitKey(1)\n",
    "\n",
    "    # Print FPS to the console (optional)\n",
    "    print(f\"FPS: {fps:.2f}\")"
   ]
  },
  {
   "cell_type": "code",
   "execution_count": null,
   "metadata": {},
   "outputs": [],
   "source": [
    "# input_path = r\"/home/pi/EZLift/src/raspberry_pi/notebooks/test_imgs/istockphoto-1318934972-612x612.jpg\"\n",
    "# img = cv2.imread(input_path)\n",
    "# img = cv2.resize(img, (256, 256))\n",
    "# results = model.predict(img, device=\"tpu:0\", imgsz=256)"
   ]
  },
  {
   "cell_type": "code",
   "execution_count": null,
   "metadata": {},
   "outputs": [],
   "source": [
    "# boxes = results[0].boxes\n",
    "# x1, y1, x2, y2 = boxes[0].xyxy[0].cpu().numpy()\n",
    "# x1, y1, x2, y2 = map(int, (x1, y1, x2, y2))\n",
    "# conf = boxes[0].conf[0].cpu().numpy()\n",
    "# cls_id = int(boxes[0].cls[0].cpu().numpy())\n",
    "\n",
    "# bb_crop = results[0].orig_img[y1:y2, x1:x2]"
   ]
  },
  {
   "cell_type": "code",
   "execution_count": null,
   "metadata": {},
   "outputs": [],
   "source": []
  }
 ],
 "metadata": {
  "kernelspec": {
   "display_name": "env",
   "language": "python",
   "name": "python3"
  },
  "language_info": {
   "codemirror_mode": {
    "name": "ipython",
    "version": 3
   },
   "file_extension": ".py",
   "mimetype": "text/x-python",
   "name": "python",
   "nbconvert_exporter": "python",
   "pygments_lexer": "ipython3",
   "version": "3.11.2"
  }
 },
 "nbformat": 4,
 "nbformat_minor": 2
}
