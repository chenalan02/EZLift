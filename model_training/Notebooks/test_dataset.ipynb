{
 "cells": [
  {
   "cell_type": "code",
   "execution_count": 1,
   "metadata": {},
   "outputs": [],
   "source": [
    "import os\n",
    "import numpy as np\n",
    "import yaml\n",
    "import random\n",
    "import shutil\n",
    "import re\n",
    "import os\n",
    "import math"
   ]
  },
  {
   "cell_type": "code",
   "execution_count": null,
   "metadata": {},
   "outputs": [],
   "source": [
    "def rotated_to_yolo(class_id, x_center, y_center, width, height, angle, image_width, image_height):\n",
    "    # Convert rotated rectangle to axis-aligned bounding box\n",
    "    # Convert angle to radians if not already\n",
    "    angle_rad = math.radians(angle) if abs(angle) > math.pi else angle\n",
    "\n",
    "    # Half dimensions\n",
    "    w_half = width / 2\n",
    "    h_half = height / 2\n",
    "\n",
    "    # Calculate corner coordinates relative to center\n",
    "    corners = [\n",
    "        (w_half * math.cos(angle_rad) - h_half * math.sin(angle_rad),\n",
    "         w_half * math.sin(angle_rad) + h_half * math.cos(angle_rad)),\n",
    "        (-w_half * math.cos(angle_rad) - h_half * math.sin(angle_rad),\n",
    "         -w_half * math.sin(angle_rad) + h_half * math.cos(angle_rad)),\n",
    "        (-w_half * math.cos(angle_rad) + h_half * math.sin(angle_rad),\n",
    "         -w_half * math.sin(angle_rad) - h_half * math.cos(angle_rad)),\n",
    "        (w_half * math.cos(angle_rad) + h_half * math.sin(angle_rad),\n",
    "         w_half * math.sin(angle_rad) - h_half * math.cos(angle_rad))\n",
    "    ]\n",
    "\n",
    "    # Get bounding box corners\n",
    "    xs = [x_center + c[0] for c in corners]\n",
    "    ys = [y_center + c[1] for c in corners]\n",
    "\n",
    "    xmin = max(0, min(xs) / image_width)\n",
    "    ymin = max(0, min(ys) / image_height)\n",
    "    xmax = min(1, max(xs) / image_width)\n",
    "    ymax = min(1, max(ys) / image_height)\n",
    "\n",
    "    # Convert to YOLO format\n",
    "    x_center = (xmin + xmax) / 2\n",
    "    y_center = (ymin + ymax) / 2\n",
    "    width = xmax - xmin\n",
    "    height = ymax - ymin\n",
    "\n",
    "    return f\"{class_id} {x_center} {y_center} {width} {height}\""
   ]
  },
  {
   "cell_type": "code",
   "execution_count": null,
   "metadata": {},
   "outputs": [],
   "source": []
  }
 ],
 "metadata": {
  "kernelspec": {
   "display_name": "ezlift",
   "language": "python",
   "name": "python3"
  },
  "language_info": {
   "codemirror_mode": {
    "name": "ipython",
    "version": 3
   },
   "file_extension": ".py",
   "mimetype": "text/x-python",
   "name": "python",
   "nbconvert_exporter": "python",
   "pygments_lexer": "ipython3",
   "version": "3.12.8"
  }
 },
 "nbformat": 4,
 "nbformat_minor": 2
}
