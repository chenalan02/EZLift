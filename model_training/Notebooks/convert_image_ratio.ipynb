{
 "cells": [
  {
   "cell_type": "code",
   "execution_count": 1,
   "metadata": {},
   "outputs": [],
   "source": [
    "import cv2"
   ]
  },
  {
   "cell_type": "code",
   "execution_count": 2,
   "metadata": {},
   "outputs": [],
   "source": [
    "def crop_image(input_path, output_path):\n",
    "    # Read the image\n",
    "    img = cv2.imread(input_path)\n",
    "\n",
    "    # Define original and new dimensions\n",
    "    original_width, original_height = 4032, 2268\n",
    "    new_width, new_height = 3024, 2268\n",
    "\n",
    "    # Ensure image has expected dimensions\n",
    "    if img.shape[1] != original_width or img.shape[0] != original_height:\n",
    "        raise ValueError(f\"Expected image size {original_width}x{original_height}, but got {img.shape[1]}x{img.shape[0]}\")\n",
    "\n",
    "    # Calculate left and right crop amounts\n",
    "    crop_x = (original_width - new_width) // 2  # 504 pixels\n",
    "    left = crop_x\n",
    "    right = original_width - crop_x\n",
    "\n",
    "    # Crop the image [y1:y2, x1:x2]\n",
    "    cropped_img = img[0:new_height, left:right]\n",
    "\n",
    "    # Save the cropped image\n",
    "    cv2.imwrite(output_path, cropped_img)\n",
    "    print(f\"Cropped image saved as {output_path}\")"
   ]
  },
  {
   "cell_type": "code",
   "execution_count": null,
   "metadata": {},
   "outputs": [
    {
     "name": "stdout",
     "output_type": "stream",
     "text": [
      "Cropped image saved as test_pallet_256.jpg\n"
     ]
    }
   ],
   "source": [
    "\n",
    "# Example usage\n",
    "input_image = \"test_pallet.jpg\"\n",
    "output_image = \"test_pallet_256.jpg\"\n",
    "crop_image(input_image, output_image)"
   ]
  },
  {
   "cell_type": "code",
   "execution_count": 5,
   "metadata": {},
   "outputs": [],
   "source": [
    "def resize_image_cv2(input_path, output_path):\n",
    "    # Read the image\n",
    "    img = cv2.imread(input_path)\n",
    "\n",
    "    # Resize to 256x256\n",
    "    resized_img = cv2.resize(img, (256, 256))\n",
    "\n",
    "    # Save the resized image\n",
    "    cv2.imwrite(output_path, resized_img)\n",
    "    print(f\"Resized image saved as {output_path}\")"
   ]
  },
  {
   "cell_type": "code",
   "execution_count": null,
   "metadata": {},
   "outputs": [
    {
     "name": "stdout",
     "output_type": "stream",
     "text": [
      "Resized image saved as test_pallet_43_256.jpg\n"
     ]
    }
   ],
   "source": [
    "input_image = \"test_pallet_43.jpg\"\n",
    "output_image = \"test_pallet_43_256.jpg\"\n",
    "resize_image_cv2(input_image, output_image)"
   ]
  },
  {
   "cell_type": "code",
   "execution_count": null,
   "metadata": {},
   "outputs": [],
   "source": []
  }
 ],
 "metadata": {
  "kernelspec": {
   "display_name": "ezlift",
   "language": "python",
   "name": "python3"
  },
  "language_info": {
   "codemirror_mode": {
    "name": "ipython",
    "version": 3
   },
   "file_extension": ".py",
   "mimetype": "text/x-python",
   "name": "python",
   "nbconvert_exporter": "python",
   "pygments_lexer": "ipython3",
   "version": "3.12.8"
  }
 },
 "nbformat": 4,
 "nbformat_minor": 2
}
